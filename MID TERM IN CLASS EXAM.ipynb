{
 "cells": [
  {
   "cell_type": "code",
   "execution_count": 6,
   "id": "4fb1a5cf",
   "metadata": {},
   "outputs": [
    {
     "name": "stdout",
     "output_type": "stream",
     "text": [
      "[*********************100%%**********************]  1 of 1 completed\n",
      "                 Open       High        Low      Close  Adj Close    Volume\n",
      "Date                                                                       \n",
      "2015-01-02  92.250000  93.050003  91.809998  92.830002  62.090683  10220400\n",
      "2015-01-05  92.099998  92.400002  89.500000  90.290001  60.391762  18502400\n",
      "2015-01-06  90.239998  91.410004  89.019997  89.809998  60.070705  16670700\n",
      "2015-01-07  90.650002  91.480003  90.000000  90.720001  60.679359  13590700\n",
      "2015-01-08  91.250000  92.269997  91.000000  92.230003  61.689342  15487500\n"
     ]
    }
   ],
   "source": [
    "import yfinance as yf\n",
    "\n",
    "# Download Exxon Mobil stock data\n",
    "xom_data = yf.download('XOM', start='2015-01-01', end='2019-01-01', interval='1d')\n",
    "\n",
    "# Inspect the first few rows of the data\n",
    "print(xom_data.head())\n",
    "\n",
    "# Save the data to a CSV file\n",
    "xom_data.to_csv('exxon_mobil_stock_data.csv')\n"
   ]
  },
  {
   "cell_type": "code",
   "execution_count": 7,
   "id": "c2e252f7",
   "metadata": {},
   "outputs": [
    {
     "name": "stdout",
     "output_type": "stream",
     "text": [
      "Annualized Return: -2.95%\n"
     ]
    }
   ],
   "source": [
    "import numpy as np\n",
    "\n",
    "# Assuming 'data' is your DataFrame with monthly stock prices\n",
    "# Calculate the logarithmic returns\n",
    "data['Log_Returns'] = np.log(data['Adj Close'] / data['Adj Close'].shift(1))\n",
    "\n",
    "# Drop NaN values that result from the shift operation\n",
    "data = data.dropna()\n",
    "\n",
    "# Calculate the mean of the logarithmic returns\n",
    "mean_log_return = data['Log_Returns'].mean()\n",
    "\n",
    "# Annualize the mean log return\n",
    "annualized_return = (1 + mean_log_return)**12 - 1\n",
    "\n",
    "# Print the results\n",
    "print(f\"Annualized Return: {annualized_return * 100:.2f}%\")\n"
   ]
  },
  {
   "cell_type": "code",
   "execution_count": 8,
   "id": "cc3ecc84",
   "metadata": {},
   "outputs": [
    {
     "name": "stdout",
     "output_type": "stream",
     "text": [
      "[*********************100%%**********************]  1 of 1 completed\n",
      "Annualized Volatility: 17.19%\n"
     ]
    }
   ],
   "source": [
    "import numpy as np\n",
    "import yfinance as yf\n",
    "\n",
    "# Download Exxon Mobil stock data (monthly data)\n",
    "data = yf.download('XOM', start='2015-01-01', end='2019-01-01', interval='1mo')\n",
    "\n",
    "# Calculate the logarithmic returns\n",
    "data['Log_Returns'] = np.log(data['Adj Close'] / data['Adj Close'].shift(1))\n",
    "\n",
    "# Drop NaN values\n",
    "data.dropna(inplace=True)\n",
    "\n",
    "# Calculate the standard deviation of the returns\n",
    "std_dev = data['Log_Returns'].std()\n",
    "\n",
    "# Annualize the volatility\n",
    "annualized_volatility = std_dev * np.sqrt(12)\n",
    "\n",
    "# Print the annualized volatility in percentage\n",
    "print(f\"Annualized Volatility: {annualized_volatility * 100:.2f}%\")\n"
   ]
  },
  {
   "cell_type": "code",
   "execution_count": 10,
   "id": "63d4fccc",
   "metadata": {},
   "outputs": [
    {
     "ename": "NameError",
     "evalue": "name 'esg_data' is not defined",
     "output_type": "error",
     "traceback": [
      "\u001b[0;31m---------------------------------------------------------------------------\u001b[0m",
      "\u001b[0;31mNameError\u001b[0m                                 Traceback (most recent call last)",
      "Cell \u001b[0;32mIn[10], line 7\u001b[0m\n\u001b[1;32m      2\u001b[0m \u001b[38;5;28;01mimport\u001b[39;00m \u001b[38;5;21;01mmatplotlib\u001b[39;00m\u001b[38;5;21;01m.\u001b[39;00m\u001b[38;5;21;01mpyplot\u001b[39;00m \u001b[38;5;28;01mas\u001b[39;00m \u001b[38;5;21;01mplt\u001b[39;00m\n\u001b[1;32m      4\u001b[0m \u001b[38;5;66;03m# Assume 'esg_data' is a pandas DataFrame with ESG scores, with a 'Date' column and a 'Total_Score' column\u001b[39;00m\n\u001b[1;32m      5\u001b[0m \n\u001b[1;32m      6\u001b[0m \u001b[38;5;66;03m# Fill missing ESG scores using data from the previous month\u001b[39;00m\n\u001b[0;32m----> 7\u001b[0m esg_data[\u001b[38;5;124m'\u001b[39m\u001b[38;5;124mTotal_Score\u001b[39m\u001b[38;5;124m'\u001b[39m]\u001b[38;5;241m.\u001b[39mfillna(method\u001b[38;5;241m=\u001b[39m\u001b[38;5;124m'\u001b[39m\u001b[38;5;124mffill\u001b[39m\u001b[38;5;124m'\u001b[39m, inplace\u001b[38;5;241m=\u001b[39m\u001b[38;5;28;01mTrue\u001b[39;00m)\n\u001b[1;32m      9\u001b[0m \u001b[38;5;66;03m# Plot the ESG data\u001b[39;00m\n\u001b[1;32m     10\u001b[0m plt\u001b[38;5;241m.\u001b[39mfigure(figsize\u001b[38;5;241m=\u001b[39m(\u001b[38;5;241m10\u001b[39m, \u001b[38;5;241m6\u001b[39m))\n",
      "\u001b[0;31mNameError\u001b[0m: name 'esg_data' is not defined"
     ]
    }
   ],
   "source": [
    "import pandas as pd\n",
    "import matplotlib.pyplot as plt\n",
    "\n",
    "# Assume 'esg_data' is a pandas DataFrame with ESG scores, with a 'Date' column and a 'Total_Score' column\n",
    "\n",
    "# Fill missing ESG scores using data from the previous month\n",
    "esg_data['Total_Score'].fillna(method='ffill', inplace=True)\n",
    "\n",
    "# Plot the ESG data\n",
    "plt.figure(figsize=(10, 6))\n",
    "plt.plot(esg_data['Date'], esg_data['Total_Score'], marker='o')\n",
    "plt.title('ESG Total Score Over Time')\n",
    "plt.xlabel('Date')\n",
    "plt.ylabel('Total Score')\n",
    "plt.grid(True)\n",
    "plt.show()\n",
    "\n",
    "# Analysis can be conducted based on the trends observed in the plot\n"
   ]
  },
  {
   "cell_type": "code",
   "execution_count": 11,
   "id": "d4b7ff7d",
   "metadata": {},
   "outputs": [
    {
     "ename": "NameError",
     "evalue": "name 'stock_data' is not defined",
     "output_type": "error",
     "traceback": [
      "\u001b[0;31m---------------------------------------------------------------------------\u001b[0m",
      "\u001b[0;31mNameError\u001b[0m                                 Traceback (most recent call last)",
      "Cell \u001b[0;32mIn[11], line 6\u001b[0m\n\u001b[1;32m      1\u001b[0m \u001b[38;5;28;01mimport\u001b[39;00m \u001b[38;5;21;01mpandas\u001b[39;00m \u001b[38;5;28;01mas\u001b[39;00m \u001b[38;5;21;01mpd\u001b[39;00m\n\u001b[1;32m      3\u001b[0m \u001b[38;5;66;03m# Assuming 'stock_data' and 'esg_data' are your DataFrames and they are aligned by date\u001b[39;00m\n\u001b[1;32m      4\u001b[0m \n\u001b[1;32m      5\u001b[0m \u001b[38;5;66;03m# Merge the datasets on the date index\u001b[39;00m\n\u001b[0;32m----> 6\u001b[0m combined_data \u001b[38;5;241m=\u001b[39m pd\u001b[38;5;241m.\u001b[39mmerge(stock_data, esg_data, left_index\u001b[38;5;241m=\u001b[39m\u001b[38;5;28;01mTrue\u001b[39;00m, right_index\u001b[38;5;241m=\u001b[39m\u001b[38;5;28;01mTrue\u001b[39;00m)\n\u001b[1;32m      8\u001b[0m \u001b[38;5;66;03m# Calculate the correlation coefficient\u001b[39;00m\n\u001b[1;32m      9\u001b[0m correlation \u001b[38;5;241m=\u001b[39m combined_data[\u001b[38;5;124m'\u001b[39m\u001b[38;5;124mStock_Price_Column\u001b[39m\u001b[38;5;124m'\u001b[39m]\u001b[38;5;241m.\u001b[39mcorr(combined_data[\u001b[38;5;124m'\u001b[39m\u001b[38;5;124mESG_Score_Column\u001b[39m\u001b[38;5;124m'\u001b[39m])\n",
      "\u001b[0;31mNameError\u001b[0m: name 'stock_data' is not defined"
     ]
    }
   ],
   "source": [
    "import pandas as pd\n",
    "\n",
    "# Assuming 'stock_data' and 'esg_data' are your DataFrames and they are aligned by date\n",
    "\n",
    "# Merge the datasets on the date index\n",
    "combined_data = pd.merge(stock_data, esg_data, left_index=True, right_index=True)\n",
    "\n",
    "# Calculate the correlation coefficient\n",
    "correlation = combined_data['Stock_Price_Column'].corr(combined_data['ESG_Score_Column'])\n",
    "\n",
    "# Print the correlation\n",
    "print(f\"Correlation Coefficient: {correlation}\")\n"
   ]
  },
  {
   "cell_type": "code",
   "execution_count": null,
   "id": "54933276",
   "metadata": {},
   "outputs": [],
   "source": [
    "import requests\n",
    "\n",
    "def fetch_temperature_data(lat, lon, year, month, api_key):\n",
    "    # Construct the API URL\n",
    "    url = f\"https://api.meteostat.net/v2/point/daily?lat={lat}&lon={lon}&start={year}-{month:02d}-01&end={year}-{month:02d}-31\"\n",
    "    headers = {'x-api-key': api_key}\n",
    "\n",
    "    # Request data\n",
    "    response = requests.get(url, headers=headers)\n",
    "\n",
    "    # Check response status\n",
    "    if response.status_code == 200:\n",
    "        return response.json()['data']\n",
    "    else:\n",
    "        return None\n",
    "\n",
    "# Example: Latitude, longitude, and altitude for Beijing\n",
    "lat, lon, alt = 39.9042, 116.4074, 44\n",
    "year, month = 2022, 12\n",
    "api_key = 'YOUR_API_KEY'  # Replace with your Meteostat API key\n",
    "\n",
    "# Fetch data\n",
    "temperature_data = fetch_temperature_data(lat, lon, year, month, api_key)\n",
    "\n",
    "# Calculate HDD\n",
    "if temperature_data:\n",
    "    base_temp = 18\n",
    "    hdd = sum(max(base_temp - day['tavg'], 0) for day in temperature_data if 'tavg' in day)\n",
    "    print(\"HDD for Beijing in December 2022:\", hdd)\n",
    "else:\n",
    "    print(\"Unable to retrieve data\")\n"
   ]
  }
 ],
 "metadata": {
  "kernelspec": {
   "display_name": "Python 3 (ipykernel)",
   "language": "python",
   "name": "python3"
  },
  "language_info": {
   "codemirror_mode": {
    "name": "ipython",
    "version": 3
   },
   "file_extension": ".py",
   "mimetype": "text/x-python",
   "name": "python",
   "nbconvert_exporter": "python",
   "pygments_lexer": "ipython3",
   "version": "3.11.5"
  }
 },
 "nbformat": 4,
 "nbformat_minor": 5
}
